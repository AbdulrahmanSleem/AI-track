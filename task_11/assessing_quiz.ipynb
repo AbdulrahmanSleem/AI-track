{
 "cells": [
  {
   "cell_type": "markdown",
   "metadata": {},
   "source": [
    "# Assessing\n",
    "Use the space below to explore `winequality-red.csv` and `winequality-white.csv` to answer the quiz questions below."
   ]
  },
  {
   "cell_type": "code",
   "execution_count": null,
   "metadata": {},
   "outputs": [],
   "source": [
    "# Answer the following questions:\n",
    "# number of samples in each dataset?__ red = 1599 __ white = 4898 ______\n",
    "# number of columns in each dataset?__ red = 12 __ white = 12 ________\n",
    "# features with missing values?___No missing values_______ \n",
    "# duplicate rows in the white wine dataset? __df_white.duplicated()________\n",
    "# number of unique values for quality in each dataset?_ red = 6 __ white = 7 ________\n",
    "# mean density of the red wine dataset?_____0.9967466791744841_______"
   ]
  },
  {
   "cell_type": "code",
   "execution_count": null,
   "metadata": {},
   "outputs": [],
   "source": [
    "import pandas as pd\n",
    "df_red = pd.read_csv('winequality-red.csv', sep=';')\n",
    "df_red.head()\n",
    "print(df_red.shape[0])\n",
    "print(df_red.shape[1])\n",
    "df_red.info()\n",
    "df_red.columns[df_red.isnull().any()]\n",
    "df_red.nunique()\n",
    "df_red.density.mean()"
   ]
  },
  {
   "cell_type": "code",
   "execution_count": null,
   "metadata": {},
   "outputs": [],
   "source": [
    "\n",
    "df_white = pd.read_csv('winequality-white.csv', sep=';')\n",
    "df_white.head()\n",
    "print(df_white.shape[0])\n",
    "print(df_white.shape[1])\n",
    "df_white.info()\n",
    "df_white.columns[df_white.isnull().any()]\n",
    "df_white.duplicated()\n",
    "df_white.nunique()"
   ]
  }
 ],
 "metadata": {
  "kernelspec": {
   "display_name": "Python 3 (ipykernel)",
   "language": "python",
   "name": "python3"
  },
  "language_info": {
   "codemirror_mode": {
    "name": "ipython",
    "version": 3
   },
   "file_extension": ".py",
   "mimetype": "text/x-python",
   "name": "python",
   "nbconvert_exporter": "python",
   "pygments_lexer": "ipython3",
   "version": "3.10.6"
  }
 },
 "nbformat": 4,
 "nbformat_minor": 2
}
