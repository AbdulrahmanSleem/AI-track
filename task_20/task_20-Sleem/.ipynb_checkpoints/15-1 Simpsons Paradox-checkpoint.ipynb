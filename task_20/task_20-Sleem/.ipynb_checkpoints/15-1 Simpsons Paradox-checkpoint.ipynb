{
 "cells": [
  {
   "cell_type": "markdown",
   "metadata": {
    "collapsed": true
   },
   "source": [
    "# Simpson's Paradox\n",
    "Use `admission_data.csv` for this exercise."
   ]
  },
  {
   "cell_type": "code",
   "execution_count": 13,
   "metadata": {},
   "outputs": [
    {
     "data": {
      "text/html": [
       "<div>\n",
       "<style scoped>\n",
       "    .dataframe tbody tr th:only-of-type {\n",
       "        vertical-align: middle;\n",
       "    }\n",
       "\n",
       "    .dataframe tbody tr th {\n",
       "        vertical-align: top;\n",
       "    }\n",
       "\n",
       "    .dataframe thead th {\n",
       "        text-align: right;\n",
       "    }\n",
       "</style>\n",
       "<table border=\"1\" class=\"dataframe\">\n",
       "  <thead>\n",
       "    <tr style=\"text-align: right;\">\n",
       "      <th></th>\n",
       "      <th>student_id</th>\n",
       "      <th>gender</th>\n",
       "      <th>major</th>\n",
       "      <th>admitted</th>\n",
       "    </tr>\n",
       "  </thead>\n",
       "  <tbody>\n",
       "    <tr>\n",
       "      <th>0</th>\n",
       "      <td>35377</td>\n",
       "      <td>female</td>\n",
       "      <td>Chemistry</td>\n",
       "      <td>False</td>\n",
       "    </tr>\n",
       "    <tr>\n",
       "      <th>1</th>\n",
       "      <td>56105</td>\n",
       "      <td>male</td>\n",
       "      <td>Physics</td>\n",
       "      <td>True</td>\n",
       "    </tr>\n",
       "    <tr>\n",
       "      <th>2</th>\n",
       "      <td>31441</td>\n",
       "      <td>female</td>\n",
       "      <td>Chemistry</td>\n",
       "      <td>False</td>\n",
       "    </tr>\n",
       "    <tr>\n",
       "      <th>3</th>\n",
       "      <td>51765</td>\n",
       "      <td>male</td>\n",
       "      <td>Physics</td>\n",
       "      <td>True</td>\n",
       "    </tr>\n",
       "    <tr>\n",
       "      <th>4</th>\n",
       "      <td>53714</td>\n",
       "      <td>female</td>\n",
       "      <td>Physics</td>\n",
       "      <td>True</td>\n",
       "    </tr>\n",
       "  </tbody>\n",
       "</table>\n",
       "</div>"
      ],
      "text/plain": [
       "   student_id  gender      major  admitted\n",
       "0       35377  female  Chemistry     False\n",
       "1       56105    male    Physics      True\n",
       "2       31441  female  Chemistry     False\n",
       "3       51765    male    Physics      True\n",
       "4       53714  female    Physics      True"
      ]
     },
     "execution_count": 13,
     "metadata": {},
     "output_type": "execute_result"
    }
   ],
   "source": [
    "import pandas as pd\n",
    "dt =pd.read_csv('admission_data.csv')\n",
    "dt.head()"
   ]
  },
  {
   "cell_type": "markdown",
   "metadata": {},
   "source": [
    "### Proportion and admission rate for each gender"
   ]
  },
  {
   "cell_type": "code",
   "execution_count": 14,
   "metadata": {},
   "outputs": [
    {
     "data": {
      "text/plain": [
       "0.514"
      ]
     },
     "execution_count": 14,
     "metadata": {},
     "output_type": "execute_result"
    }
   ],
   "source": [
    "# Proportion of students that are female\n",
    "fml_count = dt.query('gender==\"female\"').value_counts().sum()\n",
    "fml_propotion = fml_count/len(dt)\n",
    "fml_propotion"
   ]
  },
  {
   "cell_type": "code",
   "execution_count": 15,
   "metadata": {},
   "outputs": [
    {
     "data": {
      "text/plain": [
       "0.486"
      ]
     },
     "execution_count": 15,
     "metadata": {},
     "output_type": "execute_result"
    }
   ],
   "source": [
    "# Proportion of students that are male\n",
    "ml_count = dt.query('gender==\"male\"').value_counts().sum()\n",
    "ml_propotion = ml_count/len(dt)\n",
    "ml_propotion"
   ]
  },
  {
   "cell_type": "code",
   "execution_count": 16,
   "metadata": {},
   "outputs": [
    {
     "data": {
      "text/plain": [
       "0.28793774319066145"
      ]
     },
     "execution_count": 16,
     "metadata": {},
     "output_type": "execute_result"
    }
   ],
   "source": [
    "# Admission rate for females\n",
    "count_admitted_fml = dt.query('gender==\"female\"').query('admitted==True').value_counts().sum()\n",
    "admitted_fml_ratio = count_admitted_fml/fml_count\n",
    "admitted_fml_ratio"
   ]
  },
  {
   "cell_type": "code",
   "execution_count": 17,
   "metadata": {},
   "outputs": [
    {
     "data": {
      "text/plain": [
       "0.48559670781893005"
      ]
     },
     "execution_count": 17,
     "metadata": {},
     "output_type": "execute_result"
    }
   ],
   "source": [
    "# Admission rate for males\n",
    "count_admitted_ml = dt.query('gender==\"male\"').query('admitted==True').value_counts().sum()\n",
    "admitted_ml_ratio = count_admitted_ml/ml_count\n",
    "admitted_ml_ratio"
   ]
  },
  {
   "cell_type": "markdown",
   "metadata": {},
   "source": [
    "### Proportion and admission rate for physics majors of each gender"
   ]
  },
  {
   "cell_type": "code",
   "execution_count": 21,
   "metadata": {},
   "outputs": [
    {
     "data": {
      "text/plain": [
       "0.12109375"
      ]
     },
     "execution_count": 21,
     "metadata": {},
     "output_type": "execute_result"
    }
   ],
   "source": [
    "# What proportion of females students are majoring in physics?\n",
    "fml_phy_count = dt.groupby('major')['gender'].value_counts().loc['Physics','female']\n",
    "phy_count = dt.query('major==\"Physics\"').value_counts().sum()\n",
    "fml_phy_propotion = fml_phy_count / phy_count\n",
    "fml_phy_propotion"
   ]
  },
  {
   "cell_type": "code",
   "execution_count": 26,
   "metadata": {},
   "outputs": [
    {
     "data": {
      "text/plain": [
       "0.486"
      ]
     },
     "execution_count": 26,
     "metadata": {},
     "output_type": "execute_result"
    }
   ],
   "source": [
    "# What proportion of male students are majoring in physics?\n",
    "ml_phy_count = dt.query('gender==\"male\"').value_counts().sum()\n",
    "ml_propotion = ml_phy_count/len(dt)\n",
    "ml_propotion"
   ]
  },
  {
   "cell_type": "code",
   "execution_count": 27,
   "metadata": {},
   "outputs": [
    {
     "data": {
      "text/plain": [
       "0.7419354838709677"
      ]
     },
     "execution_count": 27,
     "metadata": {},
     "output_type": "execute_result"
    }
   ],
   "source": [
    "# Admission rate for female physics majors\n",
    "fml_phy_admitted_count = dt.query('gender==\"female\"').query('major==\"Physics\"').query('admitted==True').value_counts().sum()\n",
    "fml_phy_admitted_propotion = fml_phy_admitted_count/ fml_phy_count \n",
    "fml_phy_admitted_propotion"
   ]
  },
  {
   "cell_type": "code",
   "execution_count": 28,
   "metadata": {},
   "outputs": [
    {
     "data": {
      "text/plain": [
       "0.4773662551440329"
      ]
     },
     "execution_count": 28,
     "metadata": {},
     "output_type": "execute_result"
    }
   ],
   "source": [
    "# Admission rate for male physics majors\n",
    "ml_physics_admitted_count = dt.query('gender==\"male\"').query('major==\"Physics\"').query('admitted==True').value_counts().sum()\n",
    "ml_physics_admitted_propotion = ml_physics_admitted_count/ ml_phy_count \n",
    "ml_physics_admitted_propotion"
   ]
  },
  {
   "cell_type": "markdown",
   "metadata": {},
   "source": [
    "### Proportion and admission rate for chemistry majors of each gender"
   ]
  },
  {
   "cell_type": "code",
   "execution_count": 29,
   "metadata": {},
   "outputs": [
    {
     "data": {
      "text/plain": [
       "0.9262295081967213"
      ]
     },
     "execution_count": 29,
     "metadata": {},
     "output_type": "execute_result"
    }
   ],
   "source": [
    "# What proportion of female students are majoring in chemistry?\n",
    "fml_chem_count = dt.groupby('major')['gender'].value_counts().loc['Chemistry','female']\n",
    "chem_count = dt.query('major==\"Chemistry\"').value_counts().sum()\n",
    "fml_chem_propotion = fml_chem_count / chem_count\n",
    "fml_chem_propotion"
   ]
  },
  {
   "cell_type": "code",
   "execution_count": 30,
   "metadata": {},
   "outputs": [
    {
     "data": {
      "text/plain": [
       "0.07377049180327869"
      ]
     },
     "execution_count": 30,
     "metadata": {},
     "output_type": "execute_result"
    }
   ],
   "source": [
    "# What proportion of male students are majoring in chemistry?\n",
    "ml_chem_count = dt.groupby('major')['gender'].value_counts().loc['Chemistry','male']\n",
    "ml_chem_propotion = ml_chem_count / chem_count\n",
    "ml_chem_propotion"
   ]
  },
  {
   "cell_type": "code",
   "execution_count": 31,
   "metadata": {},
   "outputs": [
    {
     "data": {
      "text/plain": [
       "0.22566371681415928"
      ]
     },
     "execution_count": 31,
     "metadata": {},
     "output_type": "execute_result"
    }
   ],
   "source": [
    "# Admission rate for female chemistry majors\n",
    "fml_chem_admitted_count = dt.query('gender==\"female\"').query('major==\"Chemistry\"').query('admitted==True').value_counts().sum()\n",
    "fml_chem_admitted_propotion = fml_chem_admitted_count/ fml_chem_count \n",
    "fml_chem_admitted_propotion"
   ]
  },
  {
   "cell_type": "code",
   "execution_count": 32,
   "metadata": {},
   "outputs": [
    {
     "data": {
      "text/plain": [
       "0.1111111111111111"
      ]
     },
     "execution_count": 32,
     "metadata": {},
     "output_type": "execute_result"
    }
   ],
   "source": [
    "# Admission rate for male chemistry majors\n",
    "ml_chem_admitted_count = dt.query('gender==\"male\"').query('major==\"Chemistry\"').query('admitted==True').value_counts().sum()\n",
    "ml_chem_admitted_propotion = ml_chem_admitted_count/ ml_chem_count \n",
    "ml_chem_admitted_propotion"
   ]
  },
  {
   "cell_type": "markdown",
   "metadata": {},
   "source": [
    "### Admission rate for each major"
   ]
  },
  {
   "cell_type": "code",
   "execution_count": 33,
   "metadata": {},
   "outputs": [
    {
     "data": {
      "text/plain": [
       "0.54296875"
      ]
     },
     "execution_count": 33,
     "metadata": {},
     "output_type": "execute_result"
    }
   ],
   "source": [
    "# Admission rate for physics majors\n",
    "phy_admit = dt.query('major == \"Physics\"')['admitted']\n",
    "phy_admit.mean()\n",
    "phy_admitted_count = dt.query('major==\"Physics\"').query('admitted == True').value_counts().sum()\n",
    "phy_admitted_propotion = phy_admitted_count / phy_count\n",
    "phy_admitted_propotion"
   ]
  },
  {
   "cell_type": "code",
   "execution_count": 34,
   "metadata": {},
   "outputs": [
    {
     "data": {
      "text/plain": [
       "0.21721311475409835"
      ]
     },
     "execution_count": 34,
     "metadata": {},
     "output_type": "execute_result"
    }
   ],
   "source": [
    "# Admission rate for chemistry majors\n",
    "chem_admitted_count = dt.query('major==\"Chemistry\"').query('admitted == True').value_counts().sum()\n",
    "chem_admitted_propotion = chem_admitted_count / chem_count\n",
    "chem_admitted_propotion"
   ]
  },
  {
   "cell_type": "markdown",
   "metadata": {},
   "source": [
    "### What are your conclusions?"
   ]
  },
  {
   "cell_type": "markdown",
   "metadata": {},
   "source": [
    "\n",
    "1- Chemistry exhibits a lower admission rate compared to other majors.\n",
    "\n",
    "2- There is a higher representation of males in physics majors than in chemistry majors.\n",
    "\n",
    "3- Conversely, females tend to pursue more chemistry majors than physics majors.\n",
    "\n",
    "4- When considering gender and admission rates alone, it may appear that males are given preferential treatment in the admissions process.\n",
    "\n",
    "5- However, in the context of students applying as physics majors, females seem to receive preferential treatment in the admissions process.\n",
    "\n",
    "6- Similarly, when students apply for chemistry majors, females also seem to be favored in the admissions process."
   ]
  },
  {
   "cell_type": "code",
   "execution_count": null,
   "metadata": {},
   "outputs": [],
   "source": []
  }
 ],
 "metadata": {
  "kernelspec": {
   "display_name": "Python 3 (ipykernel)",
   "language": "python",
   "name": "python3"
  },
  "language_info": {
   "codemirror_mode": {
    "name": "ipython",
    "version": 3
   },
   "file_extension": ".py",
   "mimetype": "text/x-python",
   "name": "python",
   "nbconvert_exporter": "python",
   "pygments_lexer": "ipython3",
   "version": "3.10.4"
  }
 },
 "nbformat": 4,
 "nbformat_minor": 2
}
