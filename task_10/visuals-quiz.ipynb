{
 "cells": [
  {
   "cell_type": "markdown",
   "metadata": {},
   "source": [
    "# Exploring Data with Visuals Quiz\n",
    "Use the space below to explore `powerplant_data_edited.csv` to answer the quiz questions below."
   ]
  },
  {
   "cell_type": "code",
   "execution_count": null,
   "metadata": {},
   "outputs": [],
   "source": [
    "# Do your analysis and answer the following (use plots) (type your answers, do not just code stuff and runaway):\n",
    "\n",
    "# What is the relationship between temperature and electrical output? #Negative\n",
    "# A. Positive B. Negative C. No correlation\n",
    "# Does the humidity variable appear to be normally distributed, if not, what is the ditribution? #no , histogram distribution\n",
    "# Which variable appears to have the most outliers (plot all variables to answer this)? #relative_humadity"
   ]
  },
  {
   "cell_type": "code",
   "execution_count": null,
   "metadata": {
    "scrolled": false
   },
   "outputs": [],
   "source": [
    "# import and load the data\n",
    "import pandas as pd\n",
    "%matplotlib inline\n",
    "\n",
    "df = pd.read_csv('powerplant_data_edited.csv')\n",
    "df.head()"
   ]
  },
  {
   "cell_type": "code",
   "execution_count": null,
   "metadata": {},
   "outputs": [],
   "source": [
    "# explore the data\n",
    "df.head()"
   ]
  },
  {
   "cell_type": "code",
   "execution_count": null,
   "metadata": {
    "scrolled": true
   },
   "outputs": [],
   "source": [
    "# clean the data (check for any possible problem and fix it)"
   ]
  },
  {
   "cell_type": "code",
   "execution_count": null,
   "metadata": {},
   "outputs": [],
   "source": [
    "# plot the relationship between temperature and electrical output\n",
    "# what is the relationship between the temp and the enery_output (type your answer)?: #Negative\n",
    "df.plot(x='Temperature',y='net_hourly_electrical_energy_output', style='o');"
   ]
  },
  {
   "cell_type": "code",
   "execution_count": null,
   "metadata": {},
   "outputs": [],
   "source": [
    "# plot the distribution of humidity\n",
    "# what does the distribution look like ? #no , histogram distribution\n",
    "df['Relative_Humidity'].hist();"
   ]
  },
  {
   "cell_type": "code",
   "execution_count": null,
   "metadata": {
    "scrolled": true
   },
   "outputs": [],
   "source": [
    "# plot box plots for each variable\n",
    "# type the variable name here: #relative_humadity\n",
    "df.plot(kind='box', figsize=(20,10));"
   ]
  }
 ],
 "metadata": {
  "kernelspec": {
   "display_name": "Python 3 (ipykernel)",
   "language": "python",
   "name": "python3"
  },
  "language_info": {
   "codemirror_mode": {
    "name": "ipython",
    "version": 3
   },
   "file_extension": ".py",
   "mimetype": "text/x-python",
   "name": "python",
   "nbconvert_exporter": "python",
   "pygments_lexer": "ipython3",
   "version": "3.10.4"
  }
 },
 "nbformat": 4,
 "nbformat_minor": 2
}
