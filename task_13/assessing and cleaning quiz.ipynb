{
 "cells": [
  {
   "cell_type": "markdown",
   "metadata": {
    "collapsed": true
   },
   "source": [
    "# Assessing & Exploring \n",
    "Use [README file](http://www.fueleconomy.gov/feg/epadata/Readme.txt) or [This pdf](http://www.fueleconomy.gov/feg/EPAGreenGuide/GreenVehicleGuideDocumentation.pdf) to know more abou the datasets and columns\\\n",
    "Explore `all_alpha_08.csv` and `all_alpha_18.csv` and the questions below."
   ]
  },
  {
   "cell_type": "code",
   "execution_count": null,
   "metadata": {},
   "outputs": [],
   "source": [
    "# 1- number of samples in each dataset? #2404\n",
    "# 2- number of columns in each dataset? #18\n",
    "# 3- duplicate rows in each dataset? \n",
    "# 4- number of features with missing values in both datasets?\n",
    "# 5- datatypes of columns in each dataset ?\n",
    "# 6- How many columns are different from each other (that do not share the same datatype) [type the name of columns]?\n",
    "#     Air Pollution Score      Greenhouse Gas Score  Cyl\n",
    "# 7- number of non-null unique values for features in each dataset for each column (do not type anything just the code)?\n",
    "# 8- how is the column \"cyl\" different in both datasets? (checkbox)\n",
    "#                  Answer- Datatype \n",
    "# 9- What are the types of fuel present in each dataset ?\n",
    "# 10- What are the fuel types that exist in a dataset and not the other? "
   ]
  },
  {
   "cell_type": "code",
   "execution_count": null,
   "metadata": {},
   "outputs": [],
   "source": [
    "# import\n",
    "import pandas as pd\n",
    "\n",
    "df_8 = pd.read_csv('all_alpha_08.csv')\n",
    "df_18 = pd.read_csv('all_alpha_18.csv')\n"
   ]
  },
  {
   "cell_type": "code",
   "execution_count": null,
   "metadata": {},
   "outputs": [],
   "source": [
    "# 1- number of samples and columns in each dataset? \n",
    "print(df_8.shape[0])\n",
    "print(df_8.shape[0])\n",
    "print(df_8.shape[1])\n",
    "print(df_8.shape[1])\n"
   ]
  },
  {
   "cell_type": "code",
   "execution_count": null,
   "metadata": {},
   "outputs": [],
   "source": [
    "# 3- duplicate rows in each dataset?\n",
    "print(sum(df_8.duplicated()))\n",
    "print(sum(df_18.duplicated()))\n"
   ]
  },
  {
   "cell_type": "code",
   "execution_count": null,
   "metadata": {},
   "outputs": [],
   "source": [
    "# 4- number of features with missing values in 2008?\n",
    "print(df_8.nunique())"
   ]
  },
  {
   "cell_type": "code",
   "execution_count": null,
   "metadata": {},
   "outputs": [],
   "source": [
    "# 4- number of features with missing values in 2018?\n",
    "print(df_18.nunique())\n"
   ]
  },
  {
   "cell_type": "code",
   "execution_count": null,
   "metadata": {},
   "outputs": [],
   "source": [
    "# 5- datatypes of columns in each dataset ?\n",
    "print(df_18.dtypes)\n",
    "print(df_8.dtypes)"
   ]
  },
  {
   "cell_type": "code",
   "execution_count": null,
   "metadata": {},
   "outputs": [],
   "source": [
    "#6- How many columns are different from each other (that do not share the same datatype) [type the name of columns]?\n",
    "#       Air Pollution Score      Greenhouse Gas Score  Cyl"
   ]
  },
  {
   "cell_type": "code",
   "execution_count": null,
   "metadata": {},
   "outputs": [],
   "source": [
    "# 7- number of non-null unique values for features in each dataset for each column (do not type anything just the code)\n",
    "print(df_8.isnull().sum())\n",
    "print(df_18.isnull().sum())\n"
   ]
  },
  {
   "cell_type": "code",
   "execution_count": null,
   "metadata": {},
   "outputs": [],
   "source": [
    "# 8- how is the column \"Cyl\" different in both datasets?\n",
    "print(type(df_8['Cyl'][0]))\n",
    "print(type(df_18['Cyl'][0]))"
   ]
  },
  {
   "cell_type": "code",
   "execution_count": null,
   "metadata": {},
   "outputs": [],
   "source": [
    "# 9- What are the types of fuel present in each dataset ?\n",
    "print(type(df_8['Fuel'][0]))\n",
    "print(type(df_18['Fuel'][0]))"
   ]
  },
  {
   "cell_type": "code",
   "execution_count": null,
   "metadata": {
    "scrolled": false
   },
   "outputs": [],
   "source": [
    "# 10- What are the types of fuel present in each dataset ?\n",
    "print(df_18.Fuel.unique())\n",
    "print(df_8.Fuel.unique())"
   ]
  },
  {
   "cell_type": "markdown",
   "metadata": {},
   "source": [
    "# Cleaning"
   ]
  },
  {
   "cell_type": "markdown",
   "metadata": {},
   "source": [
    "## Cleaning - Column Labels"
   ]
  },
  {
   "cell_type": "markdown",
   "metadata": {},
   "source": [
    "Drop features that aren't consistent (not present in both datasets) or aren't relevant to our questions.\n",
    "\n",
    "Columns to Drop:\\\n",
    "From 2008 dataset: 'Stnd', 'Underhood ID', 'FE Calc Appr', 'Unadj Cmb MPG'\\\n",
    "From 2018 dataset: 'Stnd', 'Stnd Description', 'Underhood ID', 'Comb CO2'"
   ]
  },
  {
   "cell_type": "code",
   "execution_count": null,
   "metadata": {},
   "outputs": [],
   "source": [
    "# drop the columns from 2008\n",
    "df_8.drop(['Stnd', 'Underhood ID', 'FE Calc Appr', 'Unadj Cmb MPG'], axis=1,\n",
    "          inplace=True)\n",
    "df_8.head(1)"
   ]
  },
  {
   "cell_type": "code",
   "execution_count": null,
   "metadata": {},
   "outputs": [],
   "source": [
    "# drop the columns from 2018\n",
    "df_18.drop(['Stnd', 'Stnd Description', 'Underhood ID', 'Comb CO2'], axis=1,\n",
    "inplace=True)\n",
    "df_18.head(1)"
   ]
  },
  {
   "cell_type": "markdown",
   "metadata": {},
   "source": [
    "## Cleaning -  Rename Columns\n",
    "**Change the \"Sales Area\" column label in the 2008 dataset to \"Cert Region\" for consistency.**\\\n",
    "**Rename all column labels to replace spaces with underscores and convert everything to lowercase.**\\\n",
    "(Underscores can be much easier to work with in Python than spaces.\\\n",
    "For example, having spaces wouldn't allow you to use df.column_name instead of df['column_name'] to select columns or use query().\\\n",
    "Being consistent with lowercase and underscores also helps make column names easy to remember.)"
   ]
  },
  {
   "cell_type": "code",
   "execution_count": null,
   "metadata": {},
   "outputs": [],
   "source": [
    "# rename the column\n",
    "df_8.rename(columns={'Sales Area':'Cert Region'}, inplace=True)"
   ]
  },
  {
   "cell_type": "code",
   "execution_count": null,
   "metadata": {},
   "outputs": [],
   "source": [
    "# fix columns in both datasets\n",
    "df_8.rename(columns=lambda x: x.strip().lower().replace(\" \", \"_\"), inplace=True)\n",
    "df_8.head()"
   ]
  },
  {
   "cell_type": "code",
   "execution_count": null,
   "metadata": {},
   "outputs": [],
   "source": [
    "df_18.rename(columns=lambda x: x.strip().lower().replace(\" \", \"_\"), inplace=True)\n",
    "\n",
    "df_18.head()"
   ]
  },
  {
   "cell_type": "code",
   "execution_count": null,
   "metadata": {},
   "outputs": [],
   "source": [
    "# confirm that both datasets share the exact column names:\n",
    "df_8.columns == df_18.columns\n",
    "(df_8.columns == df_18.columns).all()"
   ]
  },
  {
   "cell_type": "code",
   "execution_count": null,
   "metadata": {},
   "outputs": [],
   "source": [
    "# save the new datasets as \"data_08_v1.csv\" and 'data_18_v1.csv'.\n",
    "df_8.to_csv('data_08.csv', index=False)\n",
    "df_18.to_csv('data_18.csv', index=False)"
   ]
  },
  {
   "cell_type": "markdown",
   "metadata": {},
   "source": [
    "## Cleaning - Filter, Drop Nulls, Dedupe\n",
    "For consistency, only compare cars certified by California standards.\\\n",
    "Filter both datasets using query to select only rows where \"cert_region\" is CA. Then, drop the cert_region columns, since it will no longer provide any useful information (we'll know every value is 'CA').\n",
    "\n",
    "Use `data_08_v1.csv` and `data_18_v1.csv` that you just saved\n"
   ]
  },
  {
   "cell_type": "markdown",
   "metadata": {},
   "source": [
    "### Filter by Certification Region"
   ]
  },
  {
   "cell_type": "code",
   "execution_count": null,
   "metadata": {},
   "outputs": [],
   "source": [
    "# filter datasets for rows following California standards using query\n",
    "df_8 = df_8.query('cert_region == \"CA\"')\n",
    "df_18 = df_18.query('cert_region == \"CA\"')"
   ]
  },
  {
   "cell_type": "code",
   "execution_count": null,
   "metadata": {},
   "outputs": [],
   "source": [
    "# confirm only certification region is California\n",
    "df_8['cert_region'].unique()\n",
    "df_18['cert_region'].unique()"
   ]
  },
  {
   "cell_type": "code",
   "execution_count": null,
   "metadata": {},
   "outputs": [],
   "source": [
    "# drop certification region columns form both datasets\n",
    "df_8.drop(['cert_region'], axis=1, inplace=True)\n",
    "df_18.drop(['cert_region'], axis=1, inplace=True)"
   ]
  },
  {
   "cell_type": "markdown",
   "metadata": {},
   "source": [
    "### Drop Rows with Missing Values"
   ]
  },
  {
   "cell_type": "code",
   "execution_count": null,
   "metadata": {},
   "outputs": [],
   "source": [
    "# drop rows with any null values in both datasets\n",
    "df_8.dropna(inplace=True)\n",
    "df_18.dropna(inplace=True)"
   ]
  },
  {
   "cell_type": "code",
   "execution_count": null,
   "metadata": {},
   "outputs": [],
   "source": [
    "# checks if any of the columns have null values\n",
    "print(df_8.isnull().sum().any())\n",
    "print(df_18.isnull().sum().any())"
   ]
  },
  {
   "cell_type": "markdown",
   "metadata": {},
   "source": [
    "### Dedupe Data"
   ]
  },
  {
   "cell_type": "code",
   "execution_count": null,
   "metadata": {},
   "outputs": [],
   "source": [
    "# print number of duplicates in 2008 and 2018 datasets\n",
    "print(sum(df_8.duplicated()))\n",
    "print(sum(df_18.duplicated()))"
   ]
  },
  {
   "cell_type": "code",
   "execution_count": null,
   "metadata": {},
   "outputs": [],
   "source": [
    "# drop duplicates in both datasets\n",
    "df_8.drop_duplicates(inplace=True)\n",
    "df_18.drop_duplicates(inplace=True)"
   ]
  },
  {
   "cell_type": "code",
   "execution_count": null,
   "metadata": {},
   "outputs": [],
   "source": [
    "# confirm your changes\n",
    "print(df_8.duplicated().sum())\n",
    "print(df_18.duplicated().sum())"
   ]
  },
  {
   "cell_type": "code",
   "execution_count": null,
   "metadata": {},
   "outputs": [],
   "source": [
    "# check the shape of each dataset -- if the 2008 size isn't (986,13) and 2018 (794,13), you should probably cry.\n",
    "df_8.info ###now i cry but no time :( \n",
    "df_18.info ###after some cry it works :)"
   ]
  },
  {
   "cell_type": "code",
   "execution_count": null,
   "metadata": {},
   "outputs": [],
   "source": [
    "# make a checkpoint in case you mess up anything later\n",
    "df_8.to_csv('data_8.csv', index=False)\n",
    "df_18.to_csv('data_18.csv', index=False)"
   ]
  },
  {
   "cell_type": "markdown",
   "metadata": {},
   "source": [
    "## Cleaning - Fixing Data Types\n"
   ]
  },
  {
   "cell_type": "markdown",
   "metadata": {},
   "source": [
    "### Fixing `cyl` Data Type\n",
    "- 2008: extract int from string\n",
    "- 2018: convert float to int"
   ]
  },
  {
   "cell_type": "code",
   "execution_count": null,
   "metadata": {},
   "outputs": [],
   "source": [
    "# extract int from string in cyl in the 2008 dataset\n",
    "df_8['cyl'] = df_8['cyl'].str.extract('(\\d+)').astype(int)"
   ]
  },
  {
   "cell_type": "code",
   "execution_count": null,
   "metadata": {},
   "outputs": [],
   "source": [
    "# convert the data type of the \"cyl\" column in the 2018 dataset from float to int \n",
    "df_18['cyl'] = df_18['cyl'].astype(int)"
   ]
  },
  {
   "cell_type": "code",
   "execution_count": null,
   "metadata": {},
   "outputs": [],
   "source": [
    "# verify that the data type of the column in both datasets is \"int\"\n",
    "print(type(df_8['cyl'][0]))\n",
    "print(type(df_18['cyl'][1]))\n"
   ]
  },
  {
   "cell_type": "markdown",
   "metadata": {},
   "source": [
    "### Fixing `air_pollution_score` Data Type\n",
    "- 2008: convert string to float\n",
    "- 2018: convert int to float"
   ]
  },
  {
   "cell_type": "code",
   "execution_count": null,
   "metadata": {},
   "outputs": [],
   "source": [
    "# try to change the data type to float\n",
    "df_8.air_pollution_score = df_8.air_pollution_score.astype(float)\n"
   ]
  },
  {
   "cell_type": "code",
   "execution_count": null,
   "metadata": {
    "scrolled": true
   },
   "outputs": [],
   "source": [
    "# you should have faced an error, get the row that caused that error\n",
    "## there is error with the value 6/4##\n",
    "error_position = df_8.query('air_pollution_score == \"6/4\"')\n",
    "print(error_position)"
   ]
  },
  {
   "cell_type": "markdown",
   "metadata": {},
   "source": [
    "# It's not just the air pollution score!\n",
    "The cars that have more than one type of fuel in a single row are hybrid (run on more than one type of fuel)! Multiple columns will be affected too!\\\n",
    "    \"If a vehicle can operate on more than one type of fuel, an estimate is provided for each fuel type.\"\\\n",
    "This is why you can see that multiple columns contain more than one value\n"
   ]
  },
  {
   "cell_type": "code",
   "execution_count": null,
   "metadata": {},
   "outputs": [],
   "source": [
    "# You have two options here: (1) Split the row by \"/\" into two rows, (2) just drop the rows that contain the (\"/\") in any of the columns\n",
    "# You will lose a point for each dataset if you go with the second option"
   ]
  },
  {
   "cell_type": "code",
   "execution_count": null,
   "metadata": {},
   "outputs": [],
   "source": [
    "# to split the rows---->\n",
    "# 1- get the rows that contain / in the fuel column\n",
    "hb_8 = df_8[df_8['fuel'].str.contains('/')]\n",
    "hb_18 = df_18[df_18['fuel'].str.contains('/')]\n",
    "# 2- make two copies of these rows\n",
    "df1 = hb_8.copy()\n",
    "df2 = hb_8.copy()\n",
    "# 3- get a list of all columns that are affected (you can get them by looking at any row of the hybrid cars)\n",
    "split_columns = ['fuel', 'air_pollution_score', 'city_mpg', 'hwy_mpg', 'cmb_mpg', 'greenhouse_gas_score']\n",
    "# 4- split the the row by / to two rows (one for each copy) for EACH COLUMN --> first copy should store the value before the / and the second one should store the one after the /  \n",
    "for c in split_columns:\n",
    "    df1[c] = df1[c].apply(lambda x: x.split(\"/\")[0])\n",
    "    df2[c] = df2[c].apply(lambda x: x.split(\"/\")[1])\n",
    "new_rows = pd.concat([df1,df2])\n",
    "# 5- drop the original row from the dataset\n",
    "df_8.drop(hb_8.index, inplace=True)\n",
    "# 6- append the newely created rows to the original dataframe\n",
    "df_8 = pd.concat([df_8,new_rows], ignore_index=True)\n",
    "# 7- repeat the process for each dataset (the list of columns will change in the 2018 set)\n",
    "df1 = hb_18.copy()\n",
    "df2 = hb_18.copy()"
   ]
  },
  {
   "attachments": {
    "Capture.PNG": {
     "image/png": "[encoded data removed]"
    }
   },
   "cell_type": "markdown",
   "metadata": {},
   "source": [
    "This is the row before splitting\\\n",
    "![Capture.PNG](attachment:Capture.PNG)"
   ]
  },
  {
   "attachments": {
    "Capture1.PNG": {
     "image/png": "[encoded data removed]"
    }
   },
   "cell_type": "markdown",
   "metadata": {},
   "source": [
    "This what it should look like after splitting\\\n",
    "![Capture1.PNG](attachment:Capture1.PNG)"
   ]
  },
  {
   "cell_type": "code",
   "execution_count": null,
   "metadata": {},
   "outputs": [],
   "source": [
    "# check that there are no hybrid cars in the 2008 dataset anymore:\n",
    "df_8[df_8['fuel'].str.contains('/')]"
   ]
  },
  {
   "cell_type": "markdown",
   "metadata": {},
   "source": [
    "### Repeat this process for the 2018 dataset"
   ]
  },
  {
   "cell_type": "code",
   "execution_count": null,
   "metadata": {},
   "outputs": [],
   "source": [
    "# do whatever you did in the previous cells\n",
    "df1 = hb_8.copy()\n",
    "df2 = hb_8.copy()\n",
    "# 3- get a list of all columns that are affected (you can get them by looking at any row of the hybrid cars)\n",
    "split_columns = ['fuel', 'air_pollution_score', 'city_mpg', 'hwy_mpg', 'cmb_mpg', 'greenhouse_gas_score']\n",
    "# 4- split the the row by / to two rows (one for each copy) for EACH COLUMN --> first copy should store the value before the / and the second one should store the one after the /  \n",
    "for c in split_columns:\n",
    "    df1[c] = df1[c].apply(lambda x: x.split(\"/\")[0])\n",
    "    df2[c] = df2[c].apply(lambda x: x.split(\"/\")[1])\n",
    "new_rows = pd.concat([df1,df2])\n",
    "# 5- drop the original row from the dataset\n",
    "df_18.drop(hb_18.index, inplace=True)\n",
    "# 6- append the newely created rows to the original dataframe\n",
    "df_18 = pd.concat([df_18,new_rows], ignore_index=True)\n",
    "# 7- repeat the process for each dataset (the list of columns will change in the 2018 set)\n",
    "df1 = hb_18.copy()\n",
    "df2 = hb_18.copy()"
   ]
  },
  {
   "cell_type": "code",
   "execution_count": null,
   "metadata": {},
   "outputs": [],
   "source": [
    "# now, try to change the data type again\n",
    "\n",
    "# for 2008, convert string to float\n",
    "df_8.air_pollution_score = df_8.air_pollution_score.astype(float)\n",
    "# for 2018, convert int to float\n",
    "df_18.air_pollution_score = df_18.air_pollution_score.astype(float)\n"
   ]
  },
  {
   "cell_type": "markdown",
   "metadata": {},
   "source": [
    "## Fix `city_mpg`, `hwy_mpg`, `cmb_mpg` datatypes\n",
    "    2008 and 2018: convert string to float"
   ]
  },
  {
   "cell_type": "code",
   "execution_count": null,
   "metadata": {},
   "outputs": [],
   "source": [
    "# check the data type of the columns\n",
    "print(df_8.dtypes)\n",
    "print(df_18.dtypes)"
   ]
  },
  {
   "cell_type": "code",
   "execution_count": null,
   "metadata": {},
   "outputs": [],
   "source": [
    "# convert to float\n",
    "mpg_columns = ['city_mpg', 'hwy_mpg', 'cmb_mpg']\n",
    "for c in mpg_columns:\n",
    "    df_18[c] = df_18[c].astype(float)\n",
    "    df_8[c] = df_8[c].astype(float)"
   ]
  },
  {
   "cell_type": "markdown",
   "metadata": {},
   "source": [
    "## Fix `greenhouse_gas_score` datatype\n",
    "    2008: convert from float to int"
   ]
  },
  {
   "cell_type": "code",
   "execution_count": null,
   "metadata": {},
   "outputs": [],
   "source": [
    "# convert the data type from float to int in the 2008 dataset\n",
    "df_8['greenhouse_gas_score'] = df_8['greenhouse_gas_score'].astype(int)\n",
    "df_18['greenhouse_gas_score'] = df_18['greenhouse_gas_score'].astype(int)"
   ]
  },
  {
   "cell_type": "code",
   "execution_count": null,
   "metadata": {},
   "outputs": [],
   "source": [
    "#### check that all columns and their data type in the 2008 dataset matches excatly the ones in the 2018 dataset\n",
    "#### all columns MUST be the same data type\n",
    "df_8.dtypes == df_18.dtypes"
   ]
  },
  {
   "cell_type": "code",
   "execution_count": null,
   "metadata": {},
   "outputs": [],
   "source": [
    "# check the shape of both datasets\n",
    "df_8.shape == df_18.shape"
   ]
  },
  {
   "cell_type": "code",
   "execution_count": null,
   "metadata": {},
   "outputs": [],
   "source": [
    "# Save your final CLEAN datasets as \"clean_08.csv\" and \"clean_18.csv\"\n",
    "df_8.to_csv('clean_08.csv', index=False)\n",
    "df_18.to_csv('clean_18.csv', index=False)"
   ]
  }
 ],
 "metadata": {
  "kernelspec": {
   "display_name": "Python 3 (ipykernel)",
   "language": "python",
   "name": "python3"
  },
  "language_info": {
   "codemirror_mode": {
    "name": "ipython",
    "version": 3
   },
   "file_extension": ".py",
   "mimetype": "text/x-python",
   "name": "python",
   "nbconvert_exporter": "python",
   "pygments_lexer": "ipython3",
   "version": "3.10.4"
  }
 },
 "nbformat": 4,
 "nbformat_minor": 2
}
