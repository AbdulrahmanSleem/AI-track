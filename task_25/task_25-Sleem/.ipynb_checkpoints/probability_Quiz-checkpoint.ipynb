{
 "cells": [
  {
   "cell_type": "markdown",
   "metadata": {},
   "source": [
    "# Coin Flips and Die Rolls\n",
    "Use NumPy to create simulations and compute proportions for the following outcomes. The first one is done for you.\n",
    "\n",
    "**Please note again that we are using 0 to represent heads, and 1 to represent tails.**"
   ]
  },
  {
   "cell_type": "markdown",
   "metadata": {},
   "source": [
    "### In this quiz, you will simulate coin flips and die rolls to compute proportions for the following outcomes.\n",
    "* Two fair coin flips produce exactly two heads.\n",
    "* Three fair coin flips produce exactly one head.\n",
    "* Three biased coin flips with P(H) = 0.6 produce exactly one head.\n",
    "* A die rolls an even number.\n",
    "* Two dice roll a double.\n"
   ]
  },
  {
   "cell_type": "code",
   "execution_count": 1,
   "metadata": {},
   "outputs": [],
   "source": [
    "# import numpy\n",
    "import numpy as np"
   ]
  },
  {
   "cell_type": "markdown",
   "metadata": {},
   "source": [
    "### 1. Two fair coin flips produce exactly two heads"
   ]
  },
  {
   "cell_type": "code",
   "execution_count": 48,
   "metadata": {},
   "outputs": [
    {
     "data": {
      "text/plain": [
       "0.2497"
      ]
     },
     "execution_count": 48,
     "metadata": {},
     "output_type": "execute_result"
    }
   ],
   "source": [
    "# simulate 1 million tests of two fair coin flips\n",
    "df = np.random.choice([0, 1], size=(1000000,2))\n",
    "\n",
    "# sums of all tests\n",
    "df.sum()\n",
    "\n",
    "# proportion of tests that produced exactly two heads\n",
    "num_two_heads = np.sum(np.sum(df == 0, axis=1) == 2)\n",
    "num_two_heads / len(df)"
   ]
  },
  {
   "cell_type": "markdown",
   "metadata": {},
   "source": [
    "### 2. Three fair coin flips produce exactly one head"
   ]
  },
  {
   "cell_type": "code",
   "execution_count": 56,
   "metadata": {},
   "outputs": [
    {
     "data": {
      "text/plain": [
       "0.374881"
      ]
     },
     "execution_count": 56,
     "metadata": {},
     "output_type": "execute_result"
    }
   ],
   "source": [
    "# simulate 1 million tests of three fair coin flips\n",
    "df = np.random.choice([0, 1], size=(1000000,3))\n",
    "\n",
    "# sums of all tests\n",
    "df.sum()\n",
    "\n",
    "# proportion of tests that produced exactly one head\n",
    "num_one_head = np.sum(np.sum(df == 1, axis=1) == 1)\n",
    "num_one_head / len(df)"
   ]
  },
  {
   "cell_type": "markdown",
   "metadata": {},
   "source": [
    "### 3. Three biased coin flips with P(H) = 0.6 produce exactly one head"
   ]
  },
  {
   "cell_type": "code",
   "execution_count": 69,
   "metadata": {},
   "outputs": [
    {
     "data": {
      "text/plain": [
       "0.287916"
      ]
     },
     "execution_count": 69,
     "metadata": {},
     "output_type": "execute_result"
    }
   ],
   "source": [
    "# simulate 1 million tests of three biased coin flips\n",
    "# hint: use np.random.choice()\n",
    "df = np.random.choice([0, 1], size=(1000000,3), p=[0.6, 0.4])\n",
    "df\n",
    "# sums of all tests\n",
    "df.sum()\n",
    "\n",
    "# proportion of tests that produced exactly one head\n",
    "num_one_head = np.sum(np.sum(df == 0, axis=1) == 1)\n",
    "num_one_head / len(df)"
   ]
  },
  {
   "cell_type": "markdown",
   "metadata": {},
   "source": [
    "### 4. A die rolls an even number"
   ]
  },
  {
   "cell_type": "code",
   "execution_count": 76,
   "metadata": {},
   "outputs": [
    {
     "data": {
      "text/plain": [
       "0.093732"
      ]
     },
     "execution_count": 76,
     "metadata": {},
     "output_type": "execute_result"
    }
   ],
   "source": [
    "# simulate 1 million tests of one die roll\n",
    "df = np.random.choice([0, 1], size=(1000000,6))\n",
    "\n",
    "# proportion of tests that produced an even number\n",
    "even_num = np.sum(np.sum(df%2 == 0, axis=1) == 1)\n",
    "even_num / len(df)"
   ]
  },
  {
   "cell_type": "markdown",
   "metadata": {},
   "source": [
    "### 5. Two dice roll a double"
   ]
  },
  {
   "cell_type": "code",
   "execution_count": 80,
   "metadata": {},
   "outputs": [
    {
     "data": {
      "text/plain": [
       "0.093498"
      ]
     },
     "execution_count": 80,
     "metadata": {},
     "output_type": "execute_result"
    }
   ],
   "source": [
    "# simulate the first million die rolls\n",
    "df1 = np.random.choice([0, 1], size=(1000000,6))\n",
    "\n",
    "# simulate the second million die rolls\n",
    "df2 = np.random.choice([0, 1], size=(1000000,6))\n",
    "\n",
    "# proportion of tests where the 1st and 2nd die rolled the same number\n",
    "same_num = np.sum(np.sum(df1 == df2, axis=1) == 1)\n",
    "same_num / len(df)"
   ]
  }
 ],
 "metadata": {
  "kernelspec": {
   "display_name": "Python 3 (ipykernel)",
   "language": "python",
   "name": "python3"
  },
  "language_info": {
   "codemirror_mode": {
    "name": "ipython",
    "version": 3
   },
   "file_extension": ".py",
   "mimetype": "text/x-python",
   "name": "python",
   "nbconvert_exporter": "python",
   "pygments_lexer": "ipython3",
   "version": "3.10.4"
  }
 },
 "nbformat": 4,
 "nbformat_minor": 2
}
